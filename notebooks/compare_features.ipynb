{
 "cells": [
  {
   "cell_type": "code",
   "execution_count": 1,
   "id": "900c188e-1541-424c-a8fb-665e1b70af52",
   "metadata": {},
   "outputs": [],
   "source": [
    "import pickle\n",
    "file_sim = open(\"/media/tonio/p2/ssl-medical-satellite/mae/similarities_per_layers.pkl\",'rb')"
   ]
  },
  {
   "cell_type": "code",
   "execution_count": 2,
   "id": "234e2515-1fdb-428c-9c59-cf2f3d8c9387",
   "metadata": {},
   "outputs": [],
   "source": [
    "layer_similarities = pickle.load(file_sim)"
   ]
  },
  {
   "cell_type": "code",
   "execution_count": 3,
   "id": "0344d046-078a-4e0a-9da1-8aa60247e264",
   "metadata": {},
   "outputs": [
    {
     "data": {
      "text/plain": [
       "dict_keys([0, 1, 2, 3])"
      ]
     },
     "execution_count": 3,
     "metadata": {},
     "output_type": "execute_result"
    }
   ],
   "source": [
    "layer_similarities.keys()"
   ]
  },
  {
   "cell_type": "code",
   "execution_count": 4,
   "id": "4e4fa074-0c72-4daf-84fe-6d4c3d271127",
   "metadata": {},
   "outputs": [
    {
     "data": {
      "text/plain": [
       "10009"
      ]
     },
     "execution_count": 4,
     "metadata": {},
     "output_type": "execute_result"
    }
   ],
   "source": [
    "len(layer_similarities[0])"
   ]
  },
  {
   "cell_type": "code",
   "execution_count": 5,
   "id": "0ec1a367-8ce4-4a5d-9f9c-725b2d94b439",
   "metadata": {},
   "outputs": [
    {
     "data": {
      "text/plain": [
       "torch.Size([128, 768])"
      ]
     },
     "execution_count": 5,
     "metadata": {},
     "output_type": "execute_result"
    }
   ],
   "source": [
    "layer_similarities[0][0].shape"
   ]
  },
  {
   "cell_type": "code",
   "execution_count": 6,
   "id": "5c4767d1-288b-4ea5-bb01-288d88cbe533",
   "metadata": {},
   "outputs": [
    {
     "name": "stdout",
     "output_type": "stream",
     "text": [
      "Similarity for group 0 is 0.7534560561180115\n",
      "Similarity for group 1 is 0.6866667866706848\n",
      "Similarity for group 2 is 0.6738582849502563\n",
      "Similarity for group 3 is 0.7964468002319336\n"
     ]
    }
   ],
   "source": [
    "import torch \n",
    "import numpy as np\n",
    "\n",
    "for layer in [0, 1, 2, 3]:\n",
    "    layer_similarity = torch.mean(torch.tensor([torch.mean(x) for x in layer_similarities[layer]]))\n",
    "    print(f\"Similarity for group {layer} is {layer_similarity}\")"
   ]
  },
  {
   "cell_type": "code",
   "execution_count": 38,
   "id": "9ee412fc-c728-4044-8bb7-429aa92377a5",
   "metadata": {},
   "outputs": [
    {
     "data": {
      "text/plain": [
       "tensor(0.7535)"
      ]
     },
     "execution_count": 38,
     "metadata": {},
     "output_type": "execute_result"
    }
   ],
   "source": [
    "layer_0_similarities"
   ]
  },
  {
   "cell_type": "code",
   "execution_count": 13,
   "id": "4e3e9662-33bb-4742-84a9-151ac0238711",
   "metadata": {},
   "outputs": [],
   "source": [
    "import pickle\n",
    "file_sim = open(\"/media/tonio/p2/ssl-medical-satellite/mae/similarities_per_layers_lora_10.pkl\",'rb')"
   ]
  },
  {
   "cell_type": "code",
   "execution_count": 14,
   "id": "cfd51ba8-f265-4f87-841d-0c3d3c138cb3",
   "metadata": {},
   "outputs": [],
   "source": [
    "layer_similarities = pickle.load(file_sim)"
   ]
  },
  {
   "cell_type": "code",
   "execution_count": 15,
   "id": "403ab054-63cb-47e5-a3ed-34f7c8631f0e",
   "metadata": {},
   "outputs": [
    {
     "data": {
      "text/plain": [
       "dict_keys([0, 1, 2, 3])"
      ]
     },
     "execution_count": 15,
     "metadata": {},
     "output_type": "execute_result"
    }
   ],
   "source": [
    "layer_similarities.keys()"
   ]
  },
  {
   "cell_type": "code",
   "execution_count": 17,
   "id": "531acc90-048a-4858-88b2-35df1520254f",
   "metadata": {},
   "outputs": [
    {
     "name": "stdout",
     "output_type": "stream",
     "text": [
      "Similarity for group 0 is 0.7535272836685181\n",
      "Similarity for group 1 is 0.6867678165435791\n",
      "Similarity for group 2 is 0.6740243434906006\n",
      "Similarity for group 3 is 0.7966341376304626\n"
     ]
    }
   ],
   "source": [
    "import torch \n",
    "import numpy as np\n",
    "\n",
    "for layer in [0, 1, 2, 3]:\n",
    "    layer_similarity = torch.mean(torch.tensor([torch.mean(x) for x in layer_similarities[layer]]))\n",
    "    print(f\"Similarity for group {layer} is {layer_similarity}\")"
   ]
  },
  {
   "cell_type": "code",
   "execution_count": null,
   "id": "4d29b348-8b9e-445b-b7ba-154a81dce2f7",
   "metadata": {},
   "outputs": [],
   "source": [
    "#python cosine_similarity.py --batch_size 128 --extract_features --teacher_model vit_base_patch16 --teacher_checkpoint=mae_pretrain_vit_base.pth --student_model vit_base_patch16_small_3 --reduction_factor 3"
   ]
  },
  {
   "cell_type": "code",
   "execution_count": 18,
   "id": "f696b2b7-f78d-41ae-8df1-ca321ae3b777",
   "metadata": {},
   "outputs": [],
   "source": [
    "import pickle\n",
    "file_sim = open(\"/media/tonio/p2/ssl-medical-satellite/mae/similarities_per_layers_teacher_copy_2.pkl\",'rb')"
   ]
  },
  {
   "cell_type": "code",
   "execution_count": 19,
   "id": "63d73ce6-a954-497c-b5cb-5355ca50b943",
   "metadata": {},
   "outputs": [],
   "source": [
    "layer_similarities = pickle.load(file_sim)"
   ]
  },
  {
   "cell_type": "code",
   "execution_count": 20,
   "id": "82b9f961-f9ad-412e-a136-be651746d836",
   "metadata": {},
   "outputs": [
    {
     "name": "stdout",
     "output_type": "stream",
     "text": [
      "Similarity for group 0 is 0.6934728622436523\n",
      "Similarity for group 1 is 0.45854154229164124\n",
      "Similarity for group 2 is 0.3870680630207062\n",
      "Similarity for group 3 is 0.26823651790618896\n"
     ]
    }
   ],
   "source": [
    "import torch \n",
    "import numpy as np\n",
    "\n",
    "for layer in [0, 1, 2, 3]:\n",
    "    layer_similarity = torch.mean(torch.tensor([torch.mean(x) for x in layer_similarities[layer]]))\n",
    "    print(f\"Similarity for group {layer} is {layer_similarity}\")"
   ]
  },
  {
   "cell_type": "code",
   "execution_count": null,
   "id": "a938e1dc-28c6-482b-9621-5168973edf0c",
   "metadata": {},
   "outputs": [],
   "source": []
  }
 ],
 "metadata": {
  "kernelspec": {
   "display_name": "Python 3 (ipykernel)",
   "language": "python",
   "name": "python3"
  },
  "language_info": {
   "codemirror_mode": {
    "name": "ipython",
    "version": 3
   },
   "file_extension": ".py",
   "mimetype": "text/x-python",
   "name": "python",
   "nbconvert_exporter": "python",
   "pygments_lexer": "ipython3",
   "version": "3.8.17"
  }
 },
 "nbformat": 4,
 "nbformat_minor": 5
}
